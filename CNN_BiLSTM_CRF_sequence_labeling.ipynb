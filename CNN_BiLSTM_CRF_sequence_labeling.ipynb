{
 "cells": [
  {
   "cell_type": "markdown",
   "metadata": {
    "id": "QY8ihRwr2DyI"
   },
   "source": [
    "## Importing Libraries"
   ]
  },
  {
   "cell_type": "code",
   "execution_count": 1,
   "metadata": {
    "colab": {
     "base_uri": "https://localhost:8080/"
    },
    "id": "7qqcFRNMt6I9",
    "outputId": "ff569e39-8081-452a-87c6-85a85d3f1543"
   },
   "outputs": [
    {
     "name": "stderr",
     "output_type": "stream",
     "text": [
      "Using TensorFlow backend.\n"
     ]
    }
   ],
   "source": [
    "## Importing all required packages\n",
    "import pandas as pd\n",
    "import numpy as np\n",
    "import matplotlib.pyplot as plt\n",
    "import keras"
   ]
  },
  {
   "cell_type": "code",
   "execution_count": 2,
   "metadata": {
    "id": "2dRS_GfGzQaq"
   },
   "outputs": [],
   "source": [
    "import tensorflow as tf"
   ]
  },
  {
   "cell_type": "markdown",
   "metadata": {
    "id": "VoMVidcG1976"
   },
   "source": [
    "## Loading Data"
   ]
  },
  {
   "cell_type": "code",
   "execution_count": 4,
   "metadata": {
    "id": "DHWcX_d0w1WU"
   },
   "outputs": [],
   "source": [
    "## Loading data \n",
    "train_data = pd.read_csv(\"train.csv\", encoding=\"iso-8859-1\", header=0, index_col=0).dropna(subset=['Word'])\n",
    "dev_data = pd.read_csv(\"dev.csv\", encoding=\"iso-8859-1\", header=0, index_col=0).dropna(subset=['Word'])\n",
    "test_data = pd.read_csv(\"test.csv\", encoding=\"iso-8859-1\", header=0, index_col=0).dropna(subset=['Word'])"
   ]
  },
  {
   "cell_type": "code",
   "execution_count": 5,
   "metadata": {
    "colab": {
     "base_uri": "https://localhost:8080/",
     "height": 206
    },
    "id": "q-pSg_8vzcgS",
    "outputId": "e8d4d5b4-792d-4d2b-e672-580b918330ad"
   },
   "outputs": [
    {
     "data": {
      "text/html": [
       "<div>\n",
       "<style scoped>\n",
       "    .dataframe tbody tr th:only-of-type {\n",
       "        vertical-align: middle;\n",
       "    }\n",
       "\n",
       "    .dataframe tbody tr th {\n",
       "        vertical-align: top;\n",
       "    }\n",
       "\n",
       "    .dataframe thead th {\n",
       "        text-align: right;\n",
       "    }\n",
       "</style>\n",
       "<table border=\"1\" class=\"dataframe\">\n",
       "  <thead>\n",
       "    <tr style=\"text-align: right;\">\n",
       "      <th></th>\n",
       "      <th>Sentence #</th>\n",
       "      <th>Word</th>\n",
       "      <th>Pos</th>\n",
       "      <th>Tag</th>\n",
       "    </tr>\n",
       "  </thead>\n",
       "  <tbody>\n",
       "    <tr>\n",
       "      <th>0</th>\n",
       "      <td>1</td>\n",
       "      <td>variable</td>\n",
       "      <td>NaN</td>\n",
       "      <td>O</td>\n",
       "    </tr>\n",
       "    <tr>\n",
       "      <th>1</th>\n",
       "      <td>1</td>\n",
       "      <td>temperature</td>\n",
       "      <td>NaN</td>\n",
       "      <td>O</td>\n",
       "    </tr>\n",
       "    <tr>\n",
       "      <th>2</th>\n",
       "      <td>1</td>\n",
       "      <td>electron</td>\n",
       "      <td>NaN</td>\n",
       "      <td>B-CMT</td>\n",
       "    </tr>\n",
       "    <tr>\n",
       "      <th>3</th>\n",
       "      <td>1</td>\n",
       "      <td>paramagnetic</td>\n",
       "      <td>NaN</td>\n",
       "      <td>I-CMT</td>\n",
       "    </tr>\n",
       "    <tr>\n",
       "      <th>4</th>\n",
       "      <td>1</td>\n",
       "      <td>resonance</td>\n",
       "      <td>NaN</td>\n",
       "      <td>I-CMT</td>\n",
       "    </tr>\n",
       "  </tbody>\n",
       "</table>\n",
       "</div>"
      ],
      "text/plain": [
       "   Sentence #          Word  Pos    Tag\n",
       "0           1      variable  NaN      O\n",
       "1           1   temperature  NaN      O\n",
       "2           1      electron  NaN  B-CMT\n",
       "3           1  paramagnetic  NaN  I-CMT\n",
       "4           1     resonance  NaN  I-CMT"
      ]
     },
     "execution_count": 5,
     "metadata": {},
     "output_type": "execute_result"
    }
   ],
   "source": [
    "train_data.head()"
   ]
  },
  {
   "cell_type": "code",
   "execution_count": 6,
   "metadata": {
    "colab": {
     "base_uri": "https://localhost:8080/"
    },
    "id": "Iwb5-IdV0o2m",
    "outputId": "7f6beafc-bd73-4226-c270-2debb0ddbd76"
   },
   "outputs": [
    {
     "data": {
      "text/plain": [
       "((110537, 4), (12745, 4), (13992, 4))"
      ]
     },
     "execution_count": 6,
     "metadata": {},
     "output_type": "execute_result"
    }
   ],
   "source": [
    "train_data.shape, dev_data.shape, test_data.shape"
   ]
  },
  {
   "cell_type": "markdown",
   "metadata": {
    "id": "-ftQWD9e2L9Y"
   },
   "source": [
    "## Constructing Word to Index and Tag to Index Mappings"
   ]
  },
  {
   "cell_type": "code",
   "execution_count": 7,
   "metadata": {
    "id": "rOHQvK8W1rTj"
   },
   "outputs": [],
   "source": [
    "def to_tuples(data):\n",
    "    iterator = zip(data[\"Word\"].values.tolist(),\n",
    "                   data[\"Pos\"].values.tolist(),\n",
    "                   data[\"Tag\"].values.tolist())\n",
    "    return [(word, pos, tag) for word, pos, tag in iterator]"
   ]
  },
  {
   "cell_type": "code",
   "execution_count": 8,
   "metadata": {},
   "outputs": [],
   "source": [
    "def char(sentences, char2index):\n",
    "    char_X = [[[char for char in word[0]] for word in sentence] for sentence in sentences]\n",
    "    char_X = [[[char2index[char] if char in char2index.keys() else char2index[\"--UNKNOWN_CHAR--\"] for char in word] for word in sentence] for sentence in char_X]\n",
    "    char_X = [sentence + [[char2index[\"--PADDING--\"]]] * (MAX_SENTENCE - len(sentence)) for sentence in char_X]\n",
    "    char_X = [[word + [char2index[\"--PADDING--\"]] * (MAX_CHAR - len(word)) for word in sentence] for sentence in char_X]\n",
    "    \n",
    "    return np.array(char_X)"
   ]
  },
  {
   "cell_type": "code",
   "execution_count": 9,
   "metadata": {},
   "outputs": [],
   "source": [
    "def word(sentences, word2index):\n",
    "    word_X = [[word[0] for word in sentence] for sentence in sentences]\n",
    "    word_X = [[word2index[word] for word in sentence] for sentence in word_X]\n",
    "    word_X = [sentence + [word2index[\"--PADDING--\"]] * (MAX_SENTENCE - len(sentence)) for sentence in word_X]\n",
    "    \n",
    "    return np.array(word_X)"
   ]
  },
  {
   "cell_type": "code",
   "execution_count": 10,
   "metadata": {},
   "outputs": [],
   "source": [
    "def tag(sentences, tag2index):\n",
    "    y = [[word[2] for word in sentence] for sentence in sentences]\n",
    "    y = [[tag2index[tag] for tag in sentence] for sentence in y]\n",
    "    y = [sentence + [tag2index[\"--PADDING--\"]] * (MAX_SENTENCE - len(sentence)) for sentence in y]\n",
    "    TAG_COUNT = len(tag2index)\n",
    "    y = [ np.eye(TAG_COUNT)[sentence] for sentence in y]\n",
    "    \n",
    "    return np.array(y)"
   ]
  },
  {
   "cell_type": "code",
   "execution_count": 11,
   "metadata": {},
   "outputs": [],
   "source": [
    "MAX_CHAR = train_data.Word.apply(len).max()\n",
    "MAX_SENTENCE = train_data.groupby(\"Sentence #\")[\"Word\"].agg([\"count\"]).max()[0]\n",
    "all_chars = \" 0123456789abcdefghijklmnopqrstuvwxyzABCDEFGHIJKLMNOPQRSTUVWXYZ.,-_()[]{}!?:;#'\\\"/\\\\%$`&=*+@^~|\"\n",
    "all_words = list(set(train_data[\"Word\"].values).union(dev_data[\"Word\"].values).union(test_data[\"Word\"].values))\n",
    "all_tags = list(set(train_data[\"Tag\"].values).union(dev_data[\"Tag\"].values).union(test_data[\"Tag\"].values))\n",
    "\n",
    "char2index = {char: idx + 2 for idx, char in enumerate(all_chars)}\n",
    "char2index[\"--UNKNOWN_CHAR--\"]=0\n",
    "char2index[\"--PADDING--\"]=1\n",
    "index2char = {idx: char for char, idx in char2index.items()}\n",
    "\n",
    "word2index = {word: idx + 2 for idx, word in enumerate(all_words)}\n",
    "word2index[\"--UNKNOWN_WORD--\"]=0\n",
    "word2index[\"--PADDING--\"]=1\n",
    "index2word = {idx: word for word, idx in word2index.items()}\n",
    "\n",
    "tag2index = {tag: idx + 1 for idx, tag in enumerate(all_tags)}\n",
    "tag2index[\"--PADDING--\"] = 0\n",
    "index2tag = {idx: word for word, idx in tag2index.items()}\n",
    "\n",
    "sentences_train = train_data.groupby(\"Sentence #\").apply(to_tuples).tolist()\n",
    "sentences_dev = dev_data.groupby(\"Sentence #\").apply(to_tuples).tolist()\n",
    "sentences_test = test_data.groupby(\"Sentence #\").apply(to_tuples).tolist()\n",
    "\n",
    "char_train = char(sentences_train, char2index)\n",
    "word_train = word(sentences_train, word2index)\n",
    "y_train = tag(sentences_train, tag2index)\n",
    "\n",
    "char_dev = char(sentences_dev, char2index)\n",
    "word_dev = word(sentences_dev, word2index)\n",
    "y_dev = tag(sentences_dev, tag2index)\n",
    "char_test = char(sentences_test, char2index)\n",
    "word_test = word(sentences_test, word2index)\n",
    "y_test = tag(sentences_test, tag2index)"
   ]
  },
  {
   "cell_type": "code",
   "execution_count": 12,
   "metadata": {
    "colab": {
     "base_uri": "https://localhost:8080/"
    },
    "id": "xTSTH-Gbfkx3",
    "outputId": "4c0fe65d-168e-4719-d2f7-5b2098f156b7"
   },
   "outputs": [
    {
     "data": {
      "text/plain": [
       "((4402, 134),\n",
       " (546, 134),\n",
       " (4402, 134, 61),\n",
       " (546, 134, 61),\n",
       " (4402, 134, 18),\n",
       " (546, 134, 18))"
      ]
     },
     "execution_count": 12,
     "metadata": {},
     "output_type": "execute_result"
    }
   ],
   "source": [
    "word_train.shape, word_test.shape, char_train.shape, char_test.shape, y_train.shape, y_test.shape"
   ]
  },
  {
   "cell_type": "code",
   "execution_count": 13,
   "metadata": {
    "id": "C_417Tcc58zT"
   },
   "outputs": [],
   "source": [
    "CHAR_COUNT = len(all_chars) + 2\n",
    "WORD_COUNT = len(all_words) + 2\n",
    "TAG_COUNT = len(all_tags) + 1\n",
    "CHAR_EMBEDDING = 25\n",
    "WORD_EMBEDDING = 50\n",
    "FILTERS_NUMBER = 30\n",
    "WINDOW_SIZE = 3\n",
    "LSTM_UNITS = 50\n",
    "LSTM_DROPOUT = 0.1\n",
    "DENSE_UNITS = 100\n",
    "BATCH_SIZE = 256\n",
    "MAX_EPOCHS = 20"
   ]
  },
  {
   "cell_type": "code",
   "execution_count": 14,
   "metadata": {
    "colab": {
     "base_uri": "https://localhost:8080/"
    },
    "id": "ZMshtJYYjrsG",
    "outputId": "06f8397b-43b9-4da8-d25f-163b6c2da3e9"
   },
   "outputs": [
    {
     "name": "stderr",
     "output_type": "stream",
     "text": [
      "2022-03-05 01:28:47.420775: I tensorflow/core/common_runtime/process_util.cc:115] Creating new thread pool with default inter op setting: 8. Tune using inter_op_parallelism_threads for best performance.\n"
     ]
    },
    {
     "name": "stdout",
     "output_type": "stream",
     "text": [
      "Model: \"model_1\"\n",
      "__________________________________________________________________________________________________\n",
      "Layer (type)                    Output Shape         Param #     Connected to                     \n",
      "==================================================================================================\n",
      "char_input (InputLayer)         (None, 134, 61)      0                                            \n",
      "__________________________________________________________________________________________________\n",
      "char_embedding (TimeDistributed (None, 134, 61, 25)  2375        char_input[0][0]                 \n",
      "__________________________________________________________________________________________________\n",
      "1dconv_on_char (TimeDistributed (None, 134, 61, 30)  2280        char_embedding[0][0]             \n",
      "__________________________________________________________________________________________________\n",
      "word_input (InputLayer)         (None, 134)          0                                            \n",
      "__________________________________________________________________________________________________\n",
      "1dpool_on_char (TimeDistributed (None, 134, 1, 30)   0           1dconv_on_char[0][0]             \n",
      "__________________________________________________________________________________________________\n",
      "word_embedding (Embedding)      (None, 134, 50)      464350      word_input[0][0]                 \n",
      "__________________________________________________________________________________________________\n",
      "time_distributed_1 (TimeDistrib (None, 134, 30)      0           1dpool_on_char[0][0]             \n",
      "__________________________________________________________________________________________________\n",
      "concatenate_1 (Concatenate)     (None, 134, 80)      0           word_embedding[0][0]             \n",
      "                                                                 time_distributed_1[0][0]         \n",
      "__________________________________________________________________________________________________\n",
      "dropout_1 (Dropout)             (None, 134, 80)      0           concatenate_1[0][0]              \n",
      "__________________________________________________________________________________________________\n",
      "bidirectional_1 (Bidirectional) (None, 134, 100)     52400       dropout_1[0][0]                  \n",
      "__________________________________________________________________________________________________\n",
      "dense (TimeDistributed)         (None, 134, 100)     10100       bidirectional_1[0][0]            \n",
      "__________________________________________________________________________________________________\n",
      "crf_1 (CRF)                     (None, 134, 18)      2178        dense[0][0]                      \n",
      "==================================================================================================\n",
      "Total params: 533,683\n",
      "Trainable params: 533,683\n",
      "Non-trainable params: 0\n",
      "__________________________________________________________________________________________________\n"
     ]
    }
   ],
   "source": [
    "from keras.models import Model, Input\n",
    "from keras.layers import LSTM, Embedding, Dense, TimeDistributed, Dropout, Bidirectional\n",
    "from keras_contrib.layers import CRF\n",
    "from keras_contrib import losses, metrics\n",
    "from keras import layers, optimizers\n",
    "# Model definition\n",
    "char_input = layers.Input(shape=(MAX_SENTENCE, MAX_CHAR,), name='char_input')  \n",
    "# (sample, sentence, words)\n",
    "char_embedding = layers.TimeDistributed(layers.Embedding(CHAR_COUNT, CHAR_EMBEDDING), name='char_embedding', input_shape=(MAX_SENTENCE, MAX_CHAR))(char_input)\n",
    "# (sample, sentence, words, embedding)\n",
    "char_cnn = layers.TimeDistributed(layers.Conv1D(FILTERS_NUMBER, WINDOW_SIZE, activation='tanh', padding='same'), name='1dconv_on_char')(char_embedding)\n",
    "# (sample, sentence, words, 30)\n",
    "char_pooling = layers.TimeDistributed(layers.MaxPool1D(pool_size=int(MAX_CHAR)), name='1dpool_on_char')(char_cnn)\n",
    "# (sample, sentence, 30)\n",
    "char = TimeDistributed(layers.Flatten())(char_pooling)\n",
    "\n",
    "word_input = layers.Input(shape=(MAX_SENTENCE,), name='word_input')\n",
    "\n",
    "word_embedding = layers.Embedding(WORD_COUNT, WORD_EMBEDDING, input_length=MAX_SENTENCE, name='word_embedding')(word_input)\n",
    "\n",
    "concatenated = layers.concatenate([word_embedding, char], axis=-1)\n",
    "\n",
    "model = layers.Dropout(rate=0.5)(concatenated)\n",
    "\n",
    "model = layers.Bidirectional(layers.LSTM(LSTM_UNITS, recurrent_dropout=LSTM_DROPOUT, return_sequences=True))(model)\n",
    "\n",
    "model = layers.TimeDistributed(layers.Dense(DENSE_UNITS, activation=\"relu\"), name='dense')(model)\n",
    "\n",
    "crf_layer = CRF(units=TAG_COUNT)\n",
    "output_layer = crf_layer(model)\n",
    "\n",
    "ner_model = Model([char_input, word_input], output_layer)\n",
    "\n",
    "loss = losses.crf_loss\n",
    "acc_metric = metrics.crf_accuracy\n",
    "opt = optimizers.Adam(lr=0.001)\n",
    "\n",
    "ner_model.compile(optimizer=opt, loss=loss, metrics=[acc_metric])\n",
    "\n",
    "ner_model.summary()"
   ]
  },
  {
   "cell_type": "code",
   "execution_count": 15,
   "metadata": {
    "colab": {
     "base_uri": "https://localhost:8080/"
    },
    "id": "sd3mExuYyCVP",
    "outputId": "c7ce9805-2776-42e7-e40d-531a5989fee9"
   },
   "outputs": [
    {
     "name": "stderr",
     "output_type": "stream",
     "text": [
      "/Users/DELL/opt/anaconda3/envs/tensorflow2/lib/python3.7/site-packages/tensorflow_core/python/framework/indexed_slices.py:424: UserWarning: Converting sparse IndexedSlices to a dense Tensor of unknown shape. This may consume a large amount of memory.\n",
      "  \"Converting sparse IndexedSlices to a dense Tensor of unknown shape. \"\n"
     ]
    },
    {
     "name": "stdout",
     "output_type": "stream",
     "text": [
      "Train on 4402 samples, validate on 511 samples\n",
      "Epoch 1/20\n",
      " - 168s - loss: 2.5850 - crf_accuracy: 0.3858 - val_loss: 0.7904 - val_crf_accuracy: 0.8139\n",
      "Epoch 2/20\n",
      " - 161s - loss: 0.6022 - crf_accuracy: 0.8536 - val_loss: 0.3924 - val_crf_accuracy: 0.9119\n",
      "Epoch 3/20\n",
      " - 161s - loss: 0.3273 - crf_accuracy: 0.9303 - val_loss: 0.2944 - val_crf_accuracy: 0.9391\n",
      "Epoch 4/20\n",
      " - 1043s - loss: 0.2802 - crf_accuracy: 0.9384 - val_loss: 0.2712 - val_crf_accuracy: 0.9401\n",
      "Epoch 5/20\n",
      " - 163s - loss: 0.2633 - crf_accuracy: 0.9399 - val_loss: 0.2602 - val_crf_accuracy: 0.9401\n",
      "Epoch 6/20\n",
      " - 160s - loss: 0.2545 - crf_accuracy: 0.9399 - val_loss: 0.2530 - val_crf_accuracy: 0.9399\n",
      "Epoch 7/20\n",
      " - 159s - loss: 0.2477 - crf_accuracy: 0.9401 - val_loss: 0.2464 - val_crf_accuracy: 0.9403\n",
      "Epoch 8/20\n",
      " - 155s - loss: 0.2403 - crf_accuracy: 0.9408 - val_loss: 0.2386 - val_crf_accuracy: 0.9405\n",
      "Epoch 9/20\n",
      " - 158s - loss: 0.2306 - crf_accuracy: 0.9414 - val_loss: 0.2276 - val_crf_accuracy: 0.9405\n",
      "Epoch 10/20\n",
      " - 574s - loss: 0.2167 - crf_accuracy: 0.9415 - val_loss: 0.2118 - val_crf_accuracy: 0.9405\n",
      "Epoch 11/20\n",
      " - 158s - loss: 0.1991 - crf_accuracy: 0.9413 - val_loss: 0.1937 - val_crf_accuracy: 0.9407\n",
      "Epoch 12/20\n",
      " - 156s - loss: 0.1810 - crf_accuracy: 0.9438 - val_loss: 0.1787 - val_crf_accuracy: 0.9446\n",
      "Epoch 13/20\n",
      " - 156s - loss: 0.1670 - crf_accuracy: 0.9477 - val_loss: 0.1692 - val_crf_accuracy: 0.9490\n",
      "Epoch 14/20\n",
      " - 2089s - loss: 0.1572 - crf_accuracy: 0.9520 - val_loss: 0.1631 - val_crf_accuracy: 0.9516\n",
      "Epoch 15/20\n",
      " - 1172s - loss: 0.1496 - crf_accuracy: 0.9548 - val_loss: 0.1572 - val_crf_accuracy: 0.9544\n",
      "Epoch 16/20\n",
      " - 1183s - loss: 0.1424 - crf_accuracy: 0.9582 - val_loss: 0.1508 - val_crf_accuracy: 0.9562\n",
      "Epoch 17/20\n",
      " - 169s - loss: 0.1344 - crf_accuracy: 0.9598 - val_loss: 0.1440 - val_crf_accuracy: 0.9575\n",
      "Epoch 18/20\n",
      " - 166s - loss: 0.1255 - crf_accuracy: 0.9626 - val_loss: 0.1369 - val_crf_accuracy: 0.9585\n",
      "Epoch 19/20\n",
      " - 165s - loss: 0.1177 - crf_accuracy: 0.9637 - val_loss: 0.1303 - val_crf_accuracy: 0.9600\n",
      "Epoch 20/20\n",
      " - 165s - loss: 0.1097 - crf_accuracy: 0.9659 - val_loss: 0.1254 - val_crf_accuracy: 0.9610\n"
     ]
    }
   ],
   "source": [
    "history = ner_model.fit([char_train, word_train], y_train, \n",
    "                        batch_size=BATCH_SIZE, epochs=MAX_EPOCHS, \n",
    "                        validation_data=([char_dev, word_dev], y_dev), \n",
    "                        verbose=2)"
   ]
  },
  {
   "cell_type": "markdown",
   "metadata": {},
   "source": [
    "# History"
   ]
  },
  {
   "cell_type": "code",
   "execution_count": 16,
   "metadata": {},
   "outputs": [
    {
     "data": {
      "text/plain": [
       "(<Figure size 720x360 with 2 Axes>,\n",
       " array([<AxesSubplot:title={'center':'Loss'}, xlabel='Epochs', ylabel='Loss'>,\n",
       "        <AxesSubplot:title={'center':'CRF Accuracy'}, xlabel='Epochs', ylabel='CRF Accuracy'>],\n",
       "       dtype=object))"
      ]
     },
     "execution_count": 16,
     "metadata": {},
     "output_type": "execute_result"
    },
    {
     "data": {
      "image/png": "[encoded data removed]",
      "text/plain": [
       "<Figure size 720x360 with 2 Axes>"
      ]
     },
     "metadata": {
      "needs_background": "light"
     },
     "output_type": "display_data"
    }
   ],
   "source": [
    "from plot_keras_history import plot_history\n",
    "plot_history(history.history)"
   ]
  },
  {
   "cell_type": "code",
   "execution_count": 17,
   "metadata": {},
   "outputs": [
    {
     "data": {
      "image/png": "[encoded data removed]",
      "text/plain": [
       "<Figure size 432x288 with 1 Axes>"
      ]
     },
     "metadata": {
      "needs_background": "light"
     },
     "output_type": "display_data"
    }
   ],
   "source": [
    "# Plot training & validation accuracy values\n",
    "plt.plot(history.history['crf_accuracy'])\n",
    "plt.plot(history.history['val_crf_accuracy'])\n",
    "plt.title('Model accuracy')\n",
    "plt.ylabel('Accuracy')\n",
    "plt.xlabel('Epoch')\n",
    "plt.legend(['Train', 'Test'])\n",
    "plt.show()"
   ]
  },
  {
   "cell_type": "code",
   "execution_count": 18,
   "metadata": {},
   "outputs": [
    {
     "data": {
      "image/png": "[encoded data removed]",
      "text/plain": [
       "<Figure size 432x288 with 1 Axes>"
      ]
     },
     "metadata": {
      "needs_background": "light"
     },
     "output_type": "display_data"
    }
   ],
   "source": [
    "# Plot training & validation loss values\n",
    "plt.plot(history.history['loss'])\n",
    "plt.plot(history.history['val_loss'])\n",
    "plt.title('Model loss')\n",
    "plt.ylabel('Loss')\n",
    "plt.xlabel('Epoch')\n",
    "plt.legend(['Train', 'Test'], loc='upper left')\n",
    "plt.show()"
   ]
  },
  {
   "cell_type": "markdown",
   "metadata": {},
   "source": [
    "# Evaluation"
   ]
  },
  {
   "cell_type": "code",
   "execution_count": 19,
   "metadata": {},
   "outputs": [
    {
     "name": "stdout",
     "output_type": "stream",
     "text": [
      "Accuracy: 0.9614/\n"
     ]
    }
   ],
   "source": [
    "y_pred = ner_model.predict([char_test, word_test])\n",
    "\n",
    "y_pred = np.argmax(y_pred, axis=2)\n",
    "\n",
    "y_test = np.argmax(y_test, axis=2)\n",
    "\n",
    "accuracy = (y_pred == y_test).mean()\n",
    "\n",
    "print(\"Accuracy: {:.4f}/\".format(accuracy))"
   ]
  },
  {
   "cell_type": "code",
   "execution_count": 20,
   "metadata": {},
   "outputs": [
    {
     "data": {
      "text/plain": [
       "(546, 546)"
      ]
     },
     "execution_count": 20,
     "metadata": {},
     "output_type": "execute_result"
    }
   ],
   "source": [
    "len(y_pred), len(y_test)"
   ]
  },
  {
   "cell_type": "code",
   "execution_count": 21,
   "metadata": {},
   "outputs": [],
   "source": [
    "y_test_flatten = [ele for sent in y_test for ele in sent]\n",
    "y_pred_flatten = [ele for sent in y_pred for ele in sent]"
   ]
  },
  {
   "cell_type": "code",
   "execution_count": 22,
   "metadata": {},
   "outputs": [
    {
     "name": "stdout",
     "output_type": "stream",
     "text": [
      "              precision    recall  f1-score   support\n",
      "\n",
      "           0       1.00      1.00      1.00     59172\n",
      "           2       0.68      0.65      0.66       437\n",
      "           3       0.50      0.02      0.04       219\n",
      "           4       0.00      0.00      0.00       170\n",
      "           5       0.00      0.00      0.00       135\n",
      "           7       0.64      0.36      0.46       248\n",
      "           8       0.00      0.00      0.00        15\n",
      "           9       0.46      0.59      0.52       771\n",
      "          10       0.87      0.98      0.92      9605\n",
      "          11       0.60      0.48      0.53       774\n",
      "          12       0.61      0.73      0.66       682\n",
      "          13       0.00      0.00      0.00        98\n",
      "          14       0.47      0.15      0.23       397\n",
      "          15       0.00      0.00      0.00       171\n",
      "          16       0.00      0.00      0.00        75\n",
      "          17       0.52      0.06      0.11       195\n",
      "\n",
      "    accuracy                           0.96     73164\n",
      "   macro avg       0.40      0.31      0.32     73164\n",
      "weighted avg       0.95      0.96      0.95     73164\n",
      "\n"
     ]
    },
    {
     "name": "stderr",
     "output_type": "stream",
     "text": [
      "/Users/DELL/opt/anaconda3/envs/tensorflow2/lib/python3.7/site-packages/sklearn/metrics/_classification.py:1318: UndefinedMetricWarning: Precision and F-score are ill-defined and being set to 0.0 in labels with no predicted samples. Use `zero_division` parameter to control this behavior.\n",
      "  _warn_prf(average, modifier, msg_start, len(result))\n",
      "/Users/DELL/opt/anaconda3/envs/tensorflow2/lib/python3.7/site-packages/sklearn/metrics/_classification.py:1318: UndefinedMetricWarning: Precision and F-score are ill-defined and being set to 0.0 in labels with no predicted samples. Use `zero_division` parameter to control this behavior.\n",
      "  _warn_prf(average, modifier, msg_start, len(result))\n",
      "/Users/DELL/opt/anaconda3/envs/tensorflow2/lib/python3.7/site-packages/sklearn/metrics/_classification.py:1318: UndefinedMetricWarning: Precision and F-score are ill-defined and being set to 0.0 in labels with no predicted samples. Use `zero_division` parameter to control this behavior.\n",
      "  _warn_prf(average, modifier, msg_start, len(result))\n"
     ]
    }
   ],
   "source": [
    "from sklearn.metrics import classification_report\n",
    "\n",
    "report = classification_report(y_true=y_test_flatten, y_pred=y_pred_flatten, labels=None)\n",
    "print(report)"
   ]
  },
  {
   "cell_type": "code",
   "execution_count": 23,
   "metadata": {},
   "outputs": [
    {
     "name": "stdout",
     "output_type": "stream",
     "text": [
      "Tag name: I-SPL\n",
      "[[62111  1448]\n",
      " [  207  9398]]\n",
      "Tag accuracy: 0.977 \n",
      "\n",
      "Tag name: I-MAT\n",
      "[[73089     0]\n",
      " [   75     0]]\n",
      "Tag accuracy: 0.999 \n",
      "\n"
     ]
    }
   ],
   "source": [
    "# Check individual tags\n",
    "\n",
    "from sklearn.metrics import multilabel_confusion_matrix\n",
    "\n",
    "def tag_conf_matrix(cm, tagid):\n",
    "    tag_name = index2tag[tagid]\n",
    "    print(\"Tag name: {}\".format(tag_name))\n",
    "    print(cm[tagid])\n",
    "    tn, fp, fn, tp = cm[tagid].ravel()\n",
    "    tag_acc = (tp + tn) / (tn + fp + fn + tp)\n",
    "    print(\"Tag accuracy: {:.3f} \\n\".format(tag_acc))\n",
    "\n",
    "matrix = multilabel_confusion_matrix(y_test.flatten(), y_pred.flatten())\n",
    "\n",
    "tag_conf_matrix(matrix, 8)\n",
    "tag_conf_matrix(matrix, 14)"
   ]
  },
  {
   "cell_type": "markdown",
   "metadata": {},
   "source": [
    "## Labeling Individual Sentence"
   ]
  },
  {
   "cell_type": "code",
   "execution_count": 24,
   "metadata": {},
   "outputs": [
    {
     "data": {
      "text/plain": [
       "['John',\n",
       " 'is',\n",
       " 'a',\n",
       " 'PhD',\n",
       " 'student',\n",
       " 'in',\n",
       " 'the',\n",
       " 'College',\n",
       " 'of',\n",
       " 'Computing',\n",
       " 'and',\n",
       " 'Informatics']"
      ]
     },
     "execution_count": 24,
     "metadata": {},
     "output_type": "execute_result"
    }
   ],
   "source": [
    "import re, string\n",
    "\n",
    "sentence = \"John is a PhD student in the College of Computing and Informatics.\"\n",
    "\n",
    "re_tok = re.compile(f\"([{string.punctuation}“”¨«»®´·º½¾¿¡§£₤‘’])\")\n",
    "\n",
    "sentence = re_tok.sub(r\" \", sentence).split()\n",
    "\n",
    "sentence"
   ]
  },
  {
   "cell_type": "code",
   "execution_count": 25,
   "metadata": {},
   "outputs": [],
   "source": [
    "padded_sentence = sentence + [word2index[\"--PADDING--\"]] * (MAX_SENTENCE - len(sentence))\n",
    "padded_sentence = [word2index.get(w, 0) for w in padded_sentence]"
   ]
  },
  {
   "cell_type": "code",
   "execution_count": 26,
   "metadata": {},
   "outputs": [],
   "source": [
    "padded_word = [[char for char in word] for word in sentence]\n",
    "padded_word = [[char2index[char] if char in char2index.keys() else char2index[\"--UNKNOWN_WORD--\"] for char in word] for word in padded_word]\n",
    "padded_word = padded_word + [[char2index[\"--PADDING--\"]]] * (MAX_SENTENCE - len(padded_word))\n",
    "padded_word = [word + [char2index[\"--PADDING--\"]] * (MAX_CHAR - len(word)) for word in padded_word]"
   ]
  },
  {
   "cell_type": "code",
   "execution_count": 27,
   "metadata": {},
   "outputs": [
    {
     "data": {
      "text/plain": [
       "(134, 61)"
      ]
     },
     "execution_count": 27,
     "metadata": {},
     "output_type": "execute_result"
    }
   ],
   "source": [
    "np.array(padded_word).shape"
   ]
  },
  {
   "cell_type": "code",
   "execution_count": 28,
   "metadata": {},
   "outputs": [
    {
     "data": {
      "text/plain": [
       "(134,)"
      ]
     },
     "execution_count": 28,
     "metadata": {},
     "output_type": "execute_result"
    }
   ],
   "source": [
    "np.array(padded_sentence).shape"
   ]
  },
  {
   "cell_type": "code",
   "execution_count": 29,
   "metadata": {},
   "outputs": [],
   "source": [
    "pred = ner_model.predict([np.array([padded_word]), np.array([padded_sentence])])\n",
    "pred = np.argmax(pred, axis=-1)"
   ]
  },
  {
   "cell_type": "code",
   "execution_count": 30,
   "metadata": {},
   "outputs": [
    {
     "data": {
      "text/plain": [
       "array([[10, 10, 10, 10, 10, 10, 10, 10, 10, 10, 10, 10, 14,  0,  0,  0,\n",
       "         0,  0,  0,  0,  0,  0,  0,  0,  0,  0,  0,  0,  0,  0,  0,  0,\n",
       "         0,  0,  0,  0,  0,  0,  0,  0,  0,  0,  0,  0,  0,  0,  0,  0,\n",
       "         0,  0,  0,  0,  0,  0,  0,  0,  0,  0,  0,  0,  0,  0,  0,  0,\n",
       "         0,  0,  0,  0,  0,  0,  0,  0,  0,  0,  0,  0,  0,  0,  0,  0,\n",
       "         0,  0,  0,  0,  0,  0,  0,  0,  0,  0,  0,  0,  0,  0,  0,  0,\n",
       "         0,  0,  0,  0,  0,  0,  0,  0,  0,  0,  0,  0,  0,  0,  0,  0,\n",
       "         0,  0,  0,  0,  0,  0,  0,  0,  0,  0,  0,  0,  0,  0,  0,  0,\n",
       "         0,  0,  0,  0,  0,  0]])"
      ]
     },
     "execution_count": 30,
     "metadata": {},
     "output_type": "execute_result"
    }
   ],
   "source": [
    "pred"
   ]
  },
  {
   "cell_type": "code",
   "execution_count": 31,
   "metadata": {},
   "outputs": [
    {
     "name": "stdout",
     "output_type": "stream",
     "text": [
      "John           : O    \n",
      "is             : O    \n",
      "a              : O    \n",
      "PhD            : O    \n",
      "student        : O    \n",
      "in             : O    \n",
      "the            : O    \n",
      "College        : O    \n",
      "of             : O    \n",
      "Computing      : O    \n",
      "and            : O    \n",
      "Informatics    : O    \n",
      "\n"
     ]
    }
   ],
   "source": [
    "retval = \"\"\n",
    "for w, p in zip(sentence, pred[0]):\n",
    "    retval = retval + \"{:15}: {:5}\".format(w, index2tag[p]) + \"\\n\"\n",
    "print(retval)"
   ]
  },
  {
   "cell_type": "code",
   "execution_count": null,
   "metadata": {},
   "outputs": [],
   "source": []
  }
 ],
 "metadata": {
  "accelerator": "GPU",
  "colab": {
   "authorship_tag": "ABX9TyNFUJWGbq4zF7BKAsIIdDBm",
   "collapsed_sections": [],
   "include_colab_link": true,
   "mount_file_id": "1w_182Yd9Y-oGBfj6t6OMnpBpvDah32rN",
   "name": "NER-BiLSTM-CRF-annotated-corpus-NER.ipynb",
   "provenance": []
  },
  "kernelspec": {
   "display_name": "Python 3 (ipykernel)",
   "language": "python",
   "name": "python3"
  },
  "language_info": {
   "codemirror_mode": {
    "name": "ipython",
    "version": 3
   },
   "file_extension": ".py",
   "mimetype": "text/x-python",
   "name": "python",
   "nbconvert_exporter": "python",
   "pygments_lexer": "ipython3",
   "version": "3.7.0"
  }
 },
 "nbformat": 4,
 "nbformat_minor": 1
}
